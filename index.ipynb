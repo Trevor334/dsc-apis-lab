{
 "cells": [
  {
   "cell_type": "markdown",
   "metadata": {},
   "source": [
    "# APIs - Cumulative Lab\n",
    "\n",
    "\n",
    "## Introduction \n",
    "\n",
    "We've seen how the Yelp API works and how to create basic visualizations using Folium. It's time to put those skills to work in order to create a working map! Taking things a step further, you'll also independently explore how to perform pagination in order to retrieve a full results set from the Yelp API.\n",
    "\n",
    "## Objectives\n",
    "\n",
    "You will be able to: \n",
    "\n",
    "* Practice using functions to organize your code\n",
    "* Use pagination to retrieve all results from an API query\n",
    "* Practice parsing data returned from an API query\n",
    "* Practice interpreting visualizations of a dataset\n",
    "* Create maps using Folium"
   ]
  },
  {
   "cell_type": "markdown",
   "metadata": {},
   "source": [
    "## Your Task: Query Yelp for All Businesses in a Category and Analyze the Results\n",
    "\n",
    "![restaurant counter with pizza](images/restaurant_counter.jpg)\n",
    "\n",
    "Photo by <a href=\"https://unsplash.com/@jordanmadrid?utm_source=unsplash&utm_medium=referral&utm_content=creditCopyText\">Jordan Madrid</a> on <a href=\"/s/photos/pizza-restaurant?utm_source=unsplash&utm_medium=referral&utm_content=creditCopyText\">Unsplash</a>"
   ]
  },
  {
   "cell_type": "markdown",
   "metadata": {},
   "source": [
    "### Overview\n",
    "\n",
    "You've now worked with some API calls, but we have yet to see how to retrieve a more complete dataset in a programmatic manner. In this lab, you will write a query of businesses on Yelp, then use *pagination* to retrieve all possible results for that query. Then you will create a summary of your findings, including a Folium map of the geographic locations of those businesses.\n",
    "\n",
    "### Technical Details\n",
    "\n",
    "Returning to the Yelp API, the [documentation](https://www.yelp.com/developers/documentation/v3/business_search) also provides us details regarding the **API limits**. These often include details about the number of requests a user is allowed to make within a specified time limit and the maximum number of results to be returned. In this case, we are told that any request has a **maximum of 50 results per request** and defaults to 20. Furthermore, any search will be limited to a **total of 1000 results**. To retrieve all 1000 of these results, we would have to page through the results piece by piece, retrieving 50 at a time. Processes such as these are often referred to as pagination.\n",
    "\n",
    "Also, be mindful of the **API** ***rate*** **limits**. You can only make **5000 requests per day** and can make requests too fast. Start prototyping small before running a loop that could be faulty. You can also use `time.sleep(n)` to add delays. For more details see https://www.yelp.com/developers/documentation/v3/rate_limiting.\n",
    "\n",
    "In this lab, you will define a search and then paginate over the results to retrieve all of the results. You'll then parse these responses as a list of dictionaries (for further exploration) and create a map using Folium to visualize the results geographically.\n",
    "\n",
    "### Requirements\n",
    "\n",
    "#### 1. Make the Initial Request\n",
    "\n",
    "Start by filling in your API key to make the initial request to the business search API. Investigate the structure of the response you get back and start figuring out how you will extract the relevant information.\n",
    "\n",
    "#### 2. Add Pagination\n",
    "\n",
    "Using loops and functions, collect the maximum number of results for your query from the API.\n",
    "\n",
    "#### 3. Perform Exploratory Analysis\n",
    "\n",
    "Interpret visualizations related to the price range, average rating, and number of reviews for all query results.\n",
    "\n",
    "#### 4. Create a Folium Map\n",
    "\n",
    "Using latitude and longitude data, plot the query results on an interactive map."
   ]
  },
  {
   "cell_type": "markdown",
   "metadata": {},
   "source": [
    "## 1. Make the Initial Request\n",
    "\n",
    "### Querying\n",
    "\n",
    "Start by making an initial request to the Yelp API. Your search must include at least 2 parameters: **term** and **location**. For example, you might search for pizza restaurants in NYC. The term and location is up to you but make the request below.\n",
    "\n",
    "Use the `requests` library ([documentation here](https://requests.readthedocs.io/en/master/user/quickstart/#make-a-request)).\n",
    "\n",
    "You'll also need an API key from Yelp. If you haven't done this already, go to the Yelp [Manage App page](https://www.yelp.com/developers/v3/manage_app) and create a new app (after making an account if you haven't already)."
   ]
  },
  {
   "cell_type": "code",
   "execution_count": 1,
   "metadata": {},
   "outputs": [
    {
     "data": {
      "text/plain": [
       "<Response [200]>"
      ]
     },
     "execution_count": 1,
     "metadata": {},
     "output_type": "execute_result"
    }
   ],
   "source": [
    "# Replace None with appropriate code\n",
    "\n",
    "# Import the requests library\n",
    "import requests\n",
    "\n",
    "# Get this from the \"Manage App\" page. Make sure you set them\n",
    "# back to None before pushing this to GitHub, since otherwise\n",
    "# your credentials will be compromised\n",
    "api_key = None\n",
    "\n",
    "# These can be whatever you want! But the solution uses \"pizza\"\n",
    "# and \"New York NY\" if you want to compare your work directly\n",
    "term = 'pizza'\n",
    "location = 'New York Ny'\n",
    "\n",
    "# Set up params for request\n",
    "url = \"https://api.yelp.com/v3/businesses/search\"\n",
    "headers = {\n",
    "    \"Authorization\": \"Bearer {}\".format(api_key)\n",
    "}\n",
    "url_params = {\n",
    "    \"term\": term.replace(\" \", \"+\"),\n",
    "    \"location\": location.replace(\" \", \"+\")\n",
    "}\n",
    "\n",
    "# Make the request using requests.get, passing in\n",
    "# url, headers=headers, and params=url_params\n",
    "response = requests.get(url, headers=headers, params=url_params)\n",
    "\n",
    "# Confirm we got a 200 response\n",
    "response"
   ]
  },
  {
   "cell_type": "code",
   "execution_count": 2,
   "metadata": {},
   "outputs": [
    {
     "data": {
      "text/plain": [
       "{'Connection': 'keep-alive', 'content-type': 'application/json', 'x-routing-service': 'routing-main--uswest2-6dd5b94868-2w8n5; site=public_api_v3', 'ratelimit-remaining': '413.0', 'ratelimit-resettime': '2023-07-16T00:00:00+00:00', 'x-b3-sampled': '0', 'server': 'envoy', 'x-zipkin-id': '319218848be90387', 'ratelimit-dailylimit': '500.0', 'content-encoding': 'gzip', 'x-mode': 'ro', 'x-proxied': '10-69-108-131-uswest2aprod', 'x-extlb': '10-69-108-131-uswest2aprod', 'cache-control': 'max-age=0, no-store, private, no-transform', 'Accept-Ranges': 'bytes', 'Date': 'Sat, 15 Jul 2023 15:49:39 GMT', 'Via': '1.1 varnish', 'X-Served-By': 'cache-bom4737-BOM', 'X-Cache': 'MISS', 'X-Cache-Hits': '0', 'Vary': 'Accept-Encoding', 'transfer-encoding': 'chunked'}"
      ]
     },
     "execution_count": 2,
     "metadata": {},
     "output_type": "execute_result"
    }
   ],
   "source": [
    "response.headers"
   ]
  },
  {
   "cell_type": "code",
   "execution_count": 3,
   "metadata": {},
   "outputs": [
    {
     "data": {
      "text/plain": [
       "dict_keys(['businesses', 'total', 'region'])"
      ]
     },
     "execution_count": 3,
     "metadata": {},
     "output_type": "execute_result"
    }
   ],
   "source": [
    "# Run this cell without changes\n",
    "\n",
    "# Get the response body in JSON format\n",
    "response_json = response.json()\n",
    "# View the keys\n",
    "response_json.keys()"
   ]
  },
  {
   "cell_type": "markdown",
   "metadata": {},
   "source": [
    "### Extracting Data\n",
    "\n",
    "Now, retrieve the value associated with the `'businesses'` key, and inspect its contents."
   ]
  },
  {
   "cell_type": "code",
   "execution_count": 4,
   "metadata": {},
   "outputs": [
    {
     "data": {
      "text/plain": [
       "[{'id': 'ysqgdbSrezXgVwER2kQWKA',\n",
       "  'alias': 'julianas-brooklyn-3',\n",
       "  'name': \"Juliana's\",\n",
       "  'image_url': 'https://s3-media2.fl.yelpcdn.com/bphoto/NVoLFle5H-SHNN6piAKIYw/o.jpg',\n",
       "  'is_closed': False,\n",
       "  'url': 'https://www.yelp.com/biz/julianas-brooklyn-3?adjust_creative=Rd9CAPx9yHIhoSDhcYMCdQ&utm_campaign=yelp_api_v3&utm_medium=api_v3_business_search&utm_source=Rd9CAPx9yHIhoSDhcYMCdQ',\n",
       "  'review_count': 2663,\n",
       "  'categories': [{'alias': 'pizza', 'title': 'Pizza'}],\n",
       "  'rating': 4.5,\n",
       "  'coordinates': {'latitude': 40.70274718768062,\n",
       "   'longitude': -73.99343490196397},\n",
       "  'transactions': ['delivery'],\n",
       "  'price': '$$',\n",
       "  'location': {'address1': '19 Old Fulton St',\n",
       "   'address2': '',\n",
       "   'address3': '',\n",
       "   'city': 'Brooklyn',\n",
       "   'zip_code': '11201',\n",
       "   'country': 'US',\n",
       "   'state': 'NY',\n",
       "   'display_address': ['19 Old Fulton St', 'Brooklyn, NY 11201']},\n",
       "  'phone': '+17185966700',\n",
       "  'display_phone': '(718) 596-6700',\n",
       "  'distance': 1289.8572856708206},\n",
       " {'id': 'zj8Lq1T8KIC5zwFief15jg',\n",
       "  'alias': 'prince-street-pizza-new-york-2',\n",
       "  'name': 'Prince Street Pizza',\n",
       "  'image_url': 'https://s3-media4.fl.yelpcdn.com/bphoto/PfI8oV4ct9ZJZNtUhSS8DQ/o.jpg',\n",
       "  'is_closed': False,\n",
       "  'url': 'https://www.yelp.com/biz/prince-street-pizza-new-york-2?adjust_creative=Rd9CAPx9yHIhoSDhcYMCdQ&utm_campaign=yelp_api_v3&utm_medium=api_v3_business_search&utm_source=Rd9CAPx9yHIhoSDhcYMCdQ',\n",
       "  'review_count': 4964,\n",
       "  'categories': [{'alias': 'pizza', 'title': 'Pizza'},\n",
       "   {'alias': 'italian', 'title': 'Italian'}],\n",
       "  'rating': 4.5,\n",
       "  'coordinates': {'latitude': 40.72308755605564,\n",
       "   'longitude': -73.99453001177575},\n",
       "  'transactions': ['delivery', 'pickup'],\n",
       "  'price': '$',\n",
       "  'location': {'address1': '27 Prince St',\n",
       "   'address2': None,\n",
       "   'address3': '',\n",
       "   'city': 'New York',\n",
       "   'zip_code': '10012',\n",
       "   'country': 'US',\n",
       "   'state': 'NY',\n",
       "   'display_address': ['27 Prince St', 'New York, NY 10012']},\n",
       "  'phone': '+12129664100',\n",
       "  'display_phone': '(212) 966-4100',\n",
       "  'distance': 2209.3116178604555}]"
      ]
     },
     "execution_count": 4,
     "metadata": {},
     "output_type": "execute_result"
    }
   ],
   "source": [
    "# Replace None with appropriate code\n",
    "\n",
    "# Retrieve the value from response_json\n",
    "businesses = response_json['businesses']\n",
    "\n",
    "# View the first 2 records\n",
    "businesses[:2]"
   ]
  },
  {
   "cell_type": "code",
   "execution_count": 5,
   "metadata": {},
   "outputs": [
    {
     "name": "stdout",
     "output_type": "stream",
     "text": [
      "16\n",
      "16\n",
      "16\n",
      "16\n",
      "16\n",
      "16\n",
      "16\n",
      "16\n",
      "16\n",
      "16\n",
      "16\n",
      "16\n",
      "16\n",
      "16\n",
      "16\n",
      "16\n",
      "16\n",
      "16\n",
      "15\n",
      "15\n"
     ]
    }
   ],
   "source": [
    "for b in businesses:\n",
    "    print(len(b))"
   ]
  },
  {
   "cell_type": "code",
   "execution_count": 5,
   "metadata": {},
   "outputs": [
    {
     "data": {
      "text/plain": [
       "20"
      ]
     },
     "execution_count": 5,
     "metadata": {},
     "output_type": "execute_result"
    }
   ],
   "source": [
    "len(businesses)"
   ]
  },
  {
   "cell_type": "markdown",
   "metadata": {},
   "source": [
    "### Preparing Data\n",
    "\n",
    "Write a function `prepare_data` that takes in a list of dictionaries like `businesses` and returns a copy that has been prepared for analysis:\n",
    "\n",
    "1. The `coordinates` key-value pair has been converted into two separate key-value pairs, `latitude` and `longitude`\n",
    "2. All other key-value pairs except for `name`, `review_count`, `rating`, and `price` have been dropped\n",
    "3. All dictionaries missing one of the relevant keys or containing null values have been dropped\n",
    "\n",
    "In other words, the final keys for each dictionary should be `name`, `review_count`, `rating`, `price`, `latitude`, and `longitude`.\n",
    "\n",
    "Complete the function in the cell below:"
   ]
  },
  {
   "cell_type": "code",
   "execution_count": 18,
   "metadata": {},
   "outputs": [
    {
     "data": {
      "text/plain": [
       "[{'name': \"Juliana's\",\n",
       "  'review_count': 2663,\n",
       "  'rating': 4.5,\n",
       "  'price': '$$',\n",
       "  'latitude': 40.70274718768062,\n",
       "  'longitude': -73.99343490196397},\n",
       " {'name': 'Prince Street Pizza',\n",
       "  'review_count': 4964,\n",
       "  'rating': 4.5,\n",
       "  'price': '$',\n",
       "  'latitude': 40.72308755605564,\n",
       "  'longitude': -73.99453001177575},\n",
       " {'name': 'Rubirosa',\n",
       "  'review_count': 3070,\n",
       "  'rating': 4.5,\n",
       "  'price': '$$',\n",
       "  'latitude': 40.722766,\n",
       "  'longitude': -73.996233},\n",
       " {'name': \"L'industrie Pizzeria\",\n",
       "  'review_count': 1008,\n",
       "  'rating': 4.5,\n",
       "  'price': '$',\n",
       "  'latitude': 40.71162,\n",
       "  'longitude': -73.95783},\n",
       " {'name': \"Lombardi's Pizza\",\n",
       "  'review_count': 6578,\n",
       "  'rating': 4.0,\n",
       "  'price': '$$',\n",
       "  'latitude': 40.7215934960083,\n",
       "  'longitude': -73.9955956044561}]"
      ]
     },
     "execution_count": 18,
     "metadata": {},
     "output_type": "execute_result"
    }
   ],
   "source": [
    "# Replace None with appropriate code\n",
    "\n",
    "def prepare_data(data_list):\n",
    "    \"\"\"\n",
    "    This function takes in a list of dictionaries and prepares it\n",
    "    for analysis\n",
    "    \"\"\"\n",
    "    \n",
    "    # Make a new list to hold results\n",
    "    results = []\n",
    "    \n",
    "    \n",
    "    \n",
    "    \n",
    "    for business_data in data_list:\n",
    "    \n",
    "        # Make a new dictionary to hold prepared data for this business\n",
    "        prepared_data = {}\n",
    "        \n",
    "        # Extract name, review_count, rating, and price key-value pairs\n",
    "        # from business_data and add to prepared_data\n",
    "        # If a key is not present in business_data, add it to prepared_data\n",
    "        # with an associated value of None\n",
    "        keys = ['name', 'review_count', 'rating', 'price']\n",
    "        for key in keys:\n",
    "            prepared_data[key] = business_data.get(key, None)\n",
    "    \n",
    "        # Parse and add latitude and longitude columns\n",
    "        prepared_data.update(business_data['coordinates'])\n",
    "        \n",
    "        # Add to list if all values are present\n",
    "        if all(prepared_data.values()):\n",
    "            results.append(prepared_data)\n",
    "    \n",
    "    return results\n",
    "    \n",
    "# Test out function\n",
    "prepared_businesses = prepare_data(businesses)\n",
    "prepared_businesses[:5]"
   ]
  },
  {
   "cell_type": "code",
   "execution_count": 19,
   "metadata": {},
   "outputs": [
    {
     "name": "stdout",
     "output_type": "stream",
     "text": [
      "6\n",
      "6\n",
      "6\n",
      "6\n",
      "6\n",
      "6\n",
      "6\n",
      "6\n",
      "6\n",
      "6\n",
      "6\n",
      "6\n",
      "6\n",
      "6\n",
      "6\n",
      "6\n",
      "6\n",
      "6\n"
     ]
    }
   ],
   "source": [
    "for p in prepared_businesses:\n",
    "    print(len(p))"
   ]
  },
  {
   "cell_type": "code",
   "execution_count": 9,
   "metadata": {},
   "outputs": [
    {
     "name": "stdout",
     "output_type": "stream",
     "text": [
      "{'name': 'Macoletta', 'review_count': 19, 'rating': 5.0, 'latitude': 40.7210325, 'longitude': -73.9601995}\n",
      "{'name': 'Little Pizza Parlor', 'review_count': 40, 'rating': 4.5, 'latitude': 40.692425, 'longitude': -73.984467}\n"
     ]
    }
   ],
   "source": [
    "for p in prepared_businesses:\n",
    "    if len(p) != 6:\n",
    "        print(p)"
   ]
  },
  {
   "cell_type": "code",
   "execution_count": 35,
   "metadata": {},
   "outputs": [],
   "source": [
    "lista = [{'id': 'zj8Lq1T8KIC5zwFief15jg',\n",
    "  'alias': 'prince-street-pizza-new-york-2',\n",
    "  'name': 'Prince Street Pizza',\n",
    "  'image_url': 'https://s3-media4.fl.yelpcdn.com/bphoto/PfI8oV4ct9ZJZNtUhSS8DQ/o.jpg',\n",
    "  'is_closed': False,\n",
    "  'url': 'https://www.yelp.com/biz/prince-street-pizza-new-york-2?adjust_creative=Rd9CAPx9yHIhoSDhcYMCdQ&utm_campaign=yelp_api_v3&utm_medium=api_v3_business_search&utm_source=Rd9CAPx9yHIhoSDhcYMCdQ',\n",
    "  'review_count': 4964,\n",
    "  'categories': [{'alias': 'pizza', 'title': 'Pizza'},\n",
    "   {'alias': 'italian', 'title': 'Italian'}],\n",
    "  'rating': 4.5,\n",
    "  'coordinates': {'latitude': 40.72308755605564,\n",
    "   'longitude': -73.99453001177575},\n",
    "  'transactions': ['delivery', 'pickup'],\n",
    "  'price': '$',\n",
    "  'location': {'address1': '27 Prince St',\n",
    "   'address2': None,\n",
    "   'address3': '',\n",
    "   'city': 'New York',\n",
    "   'zip_code': '10012',\n",
    "   'country': 'US',\n",
    "   'state': 'NY',\n",
    "   'display_address': ['27 Prince St', 'New York, NY 10012']},\n",
    "  'phone': '+12129664100',\n",
    "  'display_phone': '(212) 966-4100',\n",
    "  'distance': 2209.3116178604555},\n",
    " {'id': 'ysqgdbSrezXgVwER2kQWKA',\n",
    "  'alias': 'julianas-brooklyn-3',\n",
    "  'name': \"Juliana's\",\n",
    "  'image_url': 'https://s3-media2.fl.yelpcdn.com/bphoto/NVoLFle5H-SHNN6piAKIYw/o.jpg',\n",
    "  'is_closed': False,\n",
    "  'url': 'https://www.yelp.com/biz/julianas-brooklyn-3?adjust_creative=Rd9CAPx9yHIhoSDhcYMCdQ&utm_campaign=yelp_api_v3&utm_medium=api_v3_business_search&utm_source=Rd9CAPx9yHIhoSDhcYMCdQ',\n",
    "  'review_count': 2663,\n",
    "  'categories': [{'alias': 'pizza', 'title': 'Pizza'}],\n",
    "  'rating': 4.5,\n",
    "  'coordinates': {'latitude': 40.70274718768062,\n",
    "   'longitude': -73.99343490196397},\n",
    "  'transactions': ['delivery'],\n",
    "  'price': '$$',\n",
    "  'location': {'address1': '19 Old Fulton St',\n",
    "   'address2': '',\n",
    "   'address3': '',\n",
    "   'city': 'Brooklyn',\n",
    "   'zip_code': '11201',\n",
    "   'country': 'US',\n",
    "   'state': 'NY',\n",
    "   'display_address': ['19 Old Fulton St', 'Brooklyn, NY 11201']},\n",
    "  'phone': '+17185966700',\n",
    "  'display_phone': '(718) 596-6700',\n",
    "  'distance': 1289.8572856708206}]"
   ]
  },
  {
   "cell_type": "code",
   "execution_count": 40,
   "metadata": {},
   "outputs": [
    {
     "data": {
      "text/plain": [
       "{'name': \"Juliana's\", 'review_count': 2663, 'rating': 4.5, 'price': '$$'}"
      ]
     },
     "execution_count": 40,
     "metadata": {},
     "output_type": "execute_result"
    }
   ],
   "source": [
    "empty_dict = {}\n",
    "keys = ['name', 'review_count', 'rating', 'price']\n",
    "for l in lista:\n",
    "    for key, value in l.items():\n",
    "        if key in keys:\n",
    "            empty_dict[key] = value\n",
    "empty_dict"
   ]
  },
  {
   "cell_type": "code",
   "execution_count": 43,
   "metadata": {},
   "outputs": [
    {
     "data": {
      "text/plain": [
       "{'name': \"Juliana's\",\n",
       " 'review_count': 2663,\n",
       " 'rating': 4.5,\n",
       " 'price': '$$',\n",
       " 'latitude': 40.70274718768062,\n",
       " 'longitude': -73.99343490196397}"
      ]
     },
     "execution_count": 43,
     "metadata": {},
     "output_type": "execute_result"
    }
   ],
   "source": [
    "for l in lista:\n",
    "    empty_dict.update(l['coordinates'])\n",
    "empty_dict"
   ]
  },
  {
   "cell_type": "markdown",
   "metadata": {},
   "source": [
    "\n",
    "Check that your function created the correct keys:"
   ]
  },
  {
   "cell_type": "code",
   "execution_count": 20,
   "metadata": {},
   "outputs": [],
   "source": [
    "# Run this cell without changes\n",
    "\n",
    "assert sorted(list(prepared_businesses[0].keys())) == ['latitude', 'longitude', 'name', 'price', 'rating', 'review_count']"
   ]
  },
  {
   "cell_type": "markdown",
   "metadata": {},
   "source": [
    "The following code will differ depending on your query, but we expect there to be 20 businesses in the original list, and potentially fewer in the prepared list (if any of them were missing data):"
   ]
  },
  {
   "cell_type": "code",
   "execution_count": 21,
   "metadata": {},
   "outputs": [
    {
     "name": "stdout",
     "output_type": "stream",
     "text": [
      "Original: 20\n",
      "Prepared: 18\n"
     ]
    }
   ],
   "source": [
    "# Run this cell without changes\n",
    "print(\"Original:\", len(businesses))\n",
    "print(\"Prepared:\", len(prepared_businesses))"
   ]
  },
  {
   "cell_type": "markdown",
   "metadata": {},
   "source": [
    "Great! We will reuse this function once we have retrieved the full dataset."
   ]
  },
  {
   "cell_type": "markdown",
   "metadata": {},
   "source": [
    "## 2. Add Pagination\n",
    "\n",
    "Now that you are able to extract information from one page of the response, let's figure out how to request as many pages as possible.\n",
    "\n",
    "### Determining the Total\n",
    "\n",
    "Depending on the number of total results for your query, you will either retrieve all of the results, or just the first 1000 (if there are more than 1000 total).\n",
    "\n",
    "We can find the total number of results using the `\"total\"` key:"
   ]
  },
  {
   "cell_type": "code",
   "execution_count": 22,
   "metadata": {},
   "outputs": [
    {
     "data": {
      "text/plain": [
       "16200"
      ]
     },
     "execution_count": 22,
     "metadata": {},
     "output_type": "execute_result"
    }
   ],
   "source": [
    "# Run this cell without changes\n",
    "response_json[\"total\"]"
   ]
  },
  {
   "cell_type": "markdown",
   "metadata": {},
   "source": [
    "(This is specific to the implementation of the Yelp API. Some APIs will just tell you that there are more pages, or will tell you the number of pages total, rather than the total number of results. If you're not sure, always check the documentation.)\n",
    "\n",
    "In the cell below, assign the variable `total` to either the value shown above (if it is less than 1000), or 1000."
   ]
  },
  {
   "cell_type": "code",
   "execution_count": 23,
   "metadata": {},
   "outputs": [],
   "source": [
    "# Replace None with appropriate code\n",
    "total = 1000"
   ]
  },
  {
   "cell_type": "markdown",
   "metadata": {},
   "source": [
    "### Calculating the Offsets\n",
    "\n",
    "The documentation states in the parameters section:\n",
    "\n",
    "> **Name**: `limit`, **Type:** int, **Description:** Optional. Number of business results to return. By default, it will return 20. Maximum is 50.\n",
    "\n",
    "> **Name**: `offset`, **Type:** int, **Description:** Optional. Offset the list of returned business results by this amount.\n",
    "\n",
    "So, to get the most results with the fewest API calls we want to set a limit of 50 every time. If, say, we wanted to get 210 total results, that would mean:\n",
    "\n",
    "1. Offset of `0` (first 50 records)\n",
    "2. Offset of `50` (second 50 records)\n",
    "3. Offset of `100` (third 50 records)\n",
    "4. Offset of `150` (fourth 50 records)\n",
    "5. Offset of `200` (final 10 records)\n",
    "\n",
    "In the cell below, create a function `get_offsets` that takes in a total and returns a list of offsets for that total. You can assume that there is a limit of 50 every time.\n",
    "\n",
    "*Hint: you can use `range` ([documentation here](https://docs.python.org/3.3/library/stdtypes.html?highlight=range#range)) to do this in one line of code. Just make the returned result is a list.*"
   ]
  },
  {
   "cell_type": "code",
   "execution_count": 24,
   "metadata": {},
   "outputs": [],
   "source": [
    "# Replace None with appropriate code\n",
    "def get_offsets(total):\n",
    "    \"\"\"\n",
    "    Get a list of offsets needed to get all pages\n",
    "    of data up until the total\n",
    "    \"\"\"\n",
    "    return list(range(0, total, 50))"
   ]
  },
  {
   "cell_type": "code",
   "execution_count": 25,
   "metadata": {},
   "outputs": [
    {
     "data": {
      "text/plain": [
       "[0,\n",
       " 50,\n",
       " 100,\n",
       " 150,\n",
       " 200,\n",
       " 250,\n",
       " 300,\n",
       " 350,\n",
       " 400,\n",
       " 450,\n",
       " 500,\n",
       " 550,\n",
       " 600,\n",
       " 650,\n",
       " 700,\n",
       " 750,\n",
       " 800,\n",
       " 850,\n",
       " 900,\n",
       " 950]"
      ]
     },
     "execution_count": 25,
     "metadata": {},
     "output_type": "execute_result"
    }
   ],
   "source": [
    "list(range(0, total, 50))"
   ]
  },
  {
   "cell_type": "markdown",
   "metadata": {},
   "source": [
    "Check that your function works below:"
   ]
  },
  {
   "cell_type": "code",
   "execution_count": 26,
   "metadata": {},
   "outputs": [],
   "source": [
    "# Run this cell without changes\n",
    "\n",
    "assert get_offsets(200) == [0, 50, 100, 150]\n",
    "assert get_offsets(210) == [0, 50, 100, 150, 200]"
   ]
  },
  {
   "cell_type": "markdown",
   "metadata": {},
   "source": [
    "### Putting It All Together\n",
    "\n",
    "Recall that the following variable has already been declared for you:"
   ]
  },
  {
   "cell_type": "code",
   "execution_count": 27,
   "metadata": {},
   "outputs": [
    {
     "data": {
      "text/plain": [
       "{'term': 'pizza', 'location': 'New+York+Ny'}"
      ]
     },
     "execution_count": 27,
     "metadata": {},
     "output_type": "execute_result"
    }
   ],
   "source": [
    "# Run this cell without changes\n",
    "url_params"
   ]
  },
  {
   "cell_type": "markdown",
   "metadata": {},
   "source": [
    "We'll go ahead and also specify that the limit should be 50 every time:"
   ]
  },
  {
   "cell_type": "code",
   "execution_count": 28,
   "metadata": {},
   "outputs": [],
   "source": [
    "# Run this cell without changes\n",
    "url_params[\"limit\"] = 50"
   ]
  },
  {
   "cell_type": "markdown",
   "metadata": {},
   "source": [
    "In order to modify the offset, you'll need to add it to `url_params` with the key `\"offset\"` and whatever value is needed.\n",
    "\n",
    "In the cell below, write code that:\n",
    "\n",
    "* Creates an empty list for the full prepared dataset\n",
    "* Loops over all of the offsets from `get_offsets` and makes an API call each time with the specified offset\n",
    "* Calls `prepare_data` to get a cleaned version of the result of each API call\n",
    "* Extends the full prepared dataset list with each query's prepared dataset"
   ]
  },
  {
   "cell_type": "code",
   "execution_count": 29,
   "metadata": {},
   "outputs": [
    {
     "data": {
      "text/plain": [
       "724"
      ]
     },
     "execution_count": 29,
     "metadata": {},
     "output_type": "execute_result"
    }
   ],
   "source": [
    "# Replace None with appropriate code\n",
    "\n",
    "# Create an empty list for the full prepared dataset\n",
    "full_dataset = []\n",
    "\n",
    "for offset in get_offsets(total):\n",
    "    # Add or update the \"offset\" key-value pair in url_params\n",
    "    url_params['offset'] = offset\n",
    "    \n",
    "    # Make the query and get the response\n",
    "    response = requests.get(url, headers=headers, params=url_params)\n",
    "    \n",
    "    # Get the response body in JSON format\n",
    "    response_json = response.json()\n",
    "    \n",
    "    # Get the list of businesses from the response_json\n",
    "    businesses = response_json['businesses']\n",
    "    \n",
    "    # Call the prepare_data function to get a list of processed data\n",
    "    prepared_businesses = prepare_data(businesses)\n",
    "    \n",
    "    # Extend full_dataset with this list (don't append, or you'll get\n",
    "    # a list of lists instead of a flat list)\n",
    "    full_dataset.extend(prepared_businesses)\n",
    "\n",
    "# Check the length of the full dataset. It will be up to `total`,\n",
    "# potentially less if there were missing values\n",
    "len(full_dataset)"
   ]
  },
  {
   "cell_type": "code",
   "execution_count": 30,
   "metadata": {},
   "outputs": [
    {
     "data": {
      "text/plain": [
       "dict_keys(['name', 'review_count', 'rating', 'price', 'latitude', 'longitude'])"
      ]
     },
     "execution_count": 30,
     "metadata": {},
     "output_type": "execute_result"
    }
   ],
   "source": [
    "full_dataset[0].keys()"
   ]
  },
  {
   "cell_type": "code",
   "execution_count": 31,
   "metadata": {},
   "outputs": [
    {
     "data": {
      "text/plain": [
       "[]"
      ]
     },
     "execution_count": 31,
     "metadata": {},
     "output_type": "execute_result"
    }
   ],
   "source": [
    "missing =[]\n",
    "for x in full_dataset:\n",
    "    if len(x) != 6:\n",
    "        missing.append(x)\n",
    "missing"
   ]
  },
  {
   "cell_type": "code",
   "execution_count": 22,
   "metadata": {},
   "outputs": [
    {
     "data": {
      "text/plain": [
       "272"
      ]
     },
     "execution_count": 22,
     "metadata": {},
     "output_type": "execute_result"
    }
   ],
   "source": [
    "len(missing)"
   ]
  },
  {
   "cell_type": "markdown",
   "metadata": {},
   "source": [
    "This code may take up to a few minutes to run.\n",
    "\n",
    "If you get an error trying to get the response body in JSON format, try adding `time.sleep(1)` right after the `requests.get` line, so your code will sleep for 1 second between each API call."
   ]
  },
  {
   "cell_type": "markdown",
   "metadata": {},
   "source": [
    "## 3. Perform Exploratory Analysis\n",
    "\n",
    "Take the businesses from the previous question and do an initial exploratory analysis. We have provided some plots for you to interpret:"
   ]
  },
  {
   "cell_type": "code",
   "execution_count": 32,
   "metadata": {},
   "outputs": [
    {
     "data": {
      "image/png": "[encoded data removed]",
      "text/plain": [
       "<Figure size 1152x360 with 3 Axes>"
      ]
     },
     "metadata": {
      "needs_background": "light"
     },
     "output_type": "display_data"
    }
   ],
   "source": [
    "# Run this cell without changes\n",
    "from collections import Counter\n",
    "import matplotlib.pyplot as plt\n",
    "%matplotlib inline\n",
    "\n",
    "fig, (ax1, ax2, ax3) = plt.subplots(ncols=3, figsize=(16, 5))\n",
    "\n",
    "# Plot distribution of number of reviews\n",
    "all_review_counts = [x[\"review_count\"] for x in full_dataset] #list comprehension\n",
    "ax1.hist(all_review_counts)\n",
    "ax1.set_title(\"Review Count Distribution\")\n",
    "ax1.set_xlabel(\"Number of Reviews\")\n",
    "ax1.set_ylabel(\"Number of Businesses\")\n",
    "\n",
    "# Plot rating distribution\n",
    "all_ratings = [x[\"rating\"] for x in full_dataset]\n",
    "rating_counter = Counter(all_ratings)\n",
    "rating_keys = sorted(rating_counter.keys())\n",
    "ax2.bar(rating_keys, [rating_counter[key] for key in rating_keys])\n",
    "ax2.set_title(\"Rating Distribution\")\n",
    "ax2.set_xlabel(\"Rating\")\n",
    "ax2.set_ylabel(\"Number of Businesses\")\n",
    "\n",
    "# Plot price distribution\n",
    "all_prices = [x['price'].replace(\"$\", r\"\\$\") for x in full_dataset]\n",
    "price_counter = Counter(all_prices)\n",
    "price_keys = sorted(price_counter.keys())\n",
    "ax3.bar(price_keys, [price_counter[key] for key in price_keys])\n",
    "ax3.set_title(\"Price Distribution\")\n",
    "ax3.set_xlabel(\"Price Category\")\n",
    "ax3.set_ylabel(\"Number of Businesses\");"
   ]
  },
  {
   "cell_type": "markdown",
   "metadata": {},
   "source": [
    "Describe the distributions displayed above and interpret them in the context of your query. (Your answer may differ from the solution branch depending on your query.)"
   ]
  },
  {
   "cell_type": "code",
   "execution_count": null,
   "metadata": {},
   "outputs": [],
   "source": [
    "# Replace None with appropriate text\n",
    "\"\"\"\n",
    "The review count distribution shows that most business have less than 1000 reviews but there also exists businesses with over\n",
    "6000 reviews. It would be safe to consider them outliers.\n",
    "\n",
    "The rating distribution indicates that most of the businesses receive ratings of around 4. The data is centrally distributed at \n",
    "that rating as well. No business has a rating lower than 2.5\n",
    "\n",
    "The price category shows that most of the businesses are are in the $ and $$ category. This is expected for a pizza business\n",
    "where the prices are not usually set to be that high but major focus is on affordability.\n",
    "\"\"\""
   ]
  },
  {
   "cell_type": "markdown",
   "metadata": {},
   "source": [
    "In the cell below, we also plot the rating distributions by price. In this setup, a price of one dollar sign is \"lower price\" and everything else is \"higher price\"."
   ]
  },
  {
   "cell_type": "code",
   "execution_count": 33,
   "metadata": {},
   "outputs": [
    {
     "data": {
      "image/png": "[encoded data removed]",
      "text/plain": [
       "<Figure size 432x288 with 1 Axes>"
      ]
     },
     "metadata": {
      "needs_background": "light"
     },
     "output_type": "display_data"
    }
   ],
   "source": [
    "# Run this cell without changes\n",
    "\n",
    "higher_price = []\n",
    "lower_price = []\n",
    "for row in full_dataset:\n",
    "    if row[\"price\"] == \"$\":\n",
    "        lower_price.append(row[\"rating\"])\n",
    "    else:\n",
    "        higher_price.append(row[\"rating\"])\n",
    "        \n",
    "fig, ax = plt.subplots()\n",
    "\n",
    "ax.hist([higher_price, lower_price], label=[\"higher price\", \"lower price\"], density=True)\n",
    "\n",
    "ax.legend();"
   ]
  },
  {
   "cell_type": "markdown",
   "metadata": {},
   "source": [
    "Is a higher price associated with a higher rating? (No need for any additional math/statistics, just interpret what you see in the plot.)"
   ]
  },
  {
   "cell_type": "code",
   "execution_count": null,
   "metadata": {},
   "outputs": [],
   "source": [
    "# Replace None with appropriate text\n",
    "\"\"\"\n",
    "According to the plot, it can be deduced that higher price is indeed associated with a higher rating. The blue bars have higher\n",
    "peaks at ratings of 4 or higher while orange bars have higher peaks in lower ratings.\n",
    "\"\"\""
   ]
  },
  {
   "cell_type": "markdown",
   "metadata": {},
   "source": [
    "Finally, let's look at ratings vs. review counts:"
   ]
  },
  {
   "cell_type": "code",
   "execution_count": 25,
   "metadata": {},
   "outputs": [
    {
     "data": {
      "image/png": "[encoded data removed]",
      "text/plain": [
       "<Figure size 1152x360 with 1 Axes>"
      ]
     },
     "metadata": {
      "needs_background": "light"
     },
     "output_type": "display_data"
    }
   ],
   "source": [
    "# Run this cell without changes\n",
    "fig, ax = plt.subplots(figsize=(16,5))\n",
    "\n",
    "ax.scatter(all_review_counts, all_ratings, alpha=0.2)\n",
    "ax.set_xlabel(\"Number of Reviews\")\n",
    "ax.set_ylabel(\"Rating\")\n",
    "# \"zoom in\" to a subset of review counts\n",
    "ax.set_xlim(left=0, right=1000);"
   ]
  },
  {
   "cell_type": "markdown",
   "metadata": {},
   "source": [
    "Is a higher number of reviews associated with a higher rating?"
   ]
  },
  {
   "cell_type": "code",
   "execution_count": null,
   "metadata": {},
   "outputs": [],
   "source": [
    "# Replace None with appropriate text\n",
    "\"\"\"\n",
    "Not necessarily. This is because there are concentrated ratings of 5, 4.5 and 4 for less than 200 reviews. \n",
    "\"\"\""
   ]
  },
  {
   "cell_type": "markdown",
   "metadata": {},
   "source": [
    "## 4. Create a Folium Map\n",
    "\n",
    "Make a map using Folium of the businesses you retrieved. Be sure to also add popups to the markers giving some basic information such as name, rating and price.\n",
    "\n",
    "You can center the map around the latitude and longitude of the first item in `full_dataset`."
   ]
  },
  {
   "cell_type": "code",
   "execution_count": 34,
   "metadata": {},
   "outputs": [
    {
     "data": {
      "text/html": [
       "<div style=\"width:100%;\"><div style=\"position:relative;width:100%;height:0;padding-bottom:60%;\"><span style=\"color:#565656\">Make this Notebook Trusted to load map: File -> Trust Notebook</span><iframe src=\"about:blank\" style=\"position:absolute;width:100%;height:100%;left:0;top:0;border:none !important;\" data-html=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 onload=\"this.contentDocument.open();this.contentDocument.write(atob(this.getAttribute('data-html')));this.contentDocument.close();\" allowfullscreen webkitallowfullscreen mozallowfullscreen></iframe></div></div>"
      ],
      "text/plain": [
       "<folium.folium.Map at 0x156af997f70>"
      ]
     },
     "execution_count": 34,
     "metadata": {},
     "output_type": "execute_result"
    }
   ],
   "source": [
    "# Replace None with appropriate code\n",
    "\n",
    "# Import the library\n",
    "import folium\n",
    "\n",
    "# Set up center latitude and longitude\n",
    "center_lat = full_dataset[0]['latitude']\n",
    "center_long = full_dataset[0]['longitude']\n",
    "\n",
    "# Initialize map with center lat and long\n",
    "yelp_map = folium.Map(location=[center_lat, center_long], zoom_start=13)\n",
    "\n",
    "# Adjust this limit to see more or fewer businesses\n",
    "limit=100\n",
    "\n",
    "for business in full_dataset[:limit]:\n",
    "    # Extract information about business\n",
    "    lat = business['latitude']\n",
    "    long = business['longitude']\n",
    "    name = business['name']\n",
    "    rating = business['rating']\n",
    "    price = business['price']\n",
    "    details = \"{}\\nPrice: {} Rating:{}\".format(name,price,rating)\n",
    "    \n",
    "    # Create popup with relevant details\n",
    "    popup = folium.Popup(details, parse_html=True)\n",
    "    \n",
    "    # Create marker with relevant lat/long and popup\n",
    "    marker = folium.Marker(location=[lat, long], popup=popup)\n",
    "    \n",
    "    marker.add_to(yelp_map)\n",
    "    \n",
    "yelp_map"
   ]
  },
  {
   "cell_type": "markdown",
   "metadata": {},
   "source": [
    "## Summary\n",
    "\n",
    "Nice work! In this lab, you've made multiple API calls to Yelp in order to paginate through a results set, performing some basic exploratory analysis and then creating a nice interactive map to display the results using Folium! Well done!"
   ]
  }
 ],
 "metadata": {
  "kernelspec": {
   "display_name": "Python 3",
   "language": "python",
   "name": "python3"
  },
  "language_info": {
   "codemirror_mode": {
    "name": "ipython",
    "version": 3
   },
   "file_extension": ".py",
   "mimetype": "text/x-python",
   "name": "python",
   "nbconvert_exporter": "python",
   "pygments_lexer": "ipython3",
   "version": "3.8.5"
  },
  "toc": {
   "base_numbering": 1,
   "nav_menu": {},
   "number_sections": true,
   "sideBar": true,
   "skip_h1_title": false,
   "title_cell": "Table of Contents",
   "title_sidebar": "Contents",
   "toc_cell": false,
   "toc_position": {},
   "toc_section_display": true,
   "toc_window_display": false
  }
 },
 "nbformat": 4,
 "nbformat_minor": 2
}
